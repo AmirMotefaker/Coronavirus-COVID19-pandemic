{
 "cells": [
  {
   "cell_type": "markdown",
   "id": "2f80a5b6",
   "metadata": {
    "papermill": {
     "duration": 0.003226,
     "end_time": "2023-01-04T13:09:00.756405",
     "exception": false,
     "start_time": "2023-01-04T13:09:00.753179",
     "status": "completed"
    },
    "tags": []
   },
   "source": [
    "# Coronavirus Pandemic (COVID-19)\n",
    "\n",
    "- Coronavirus disease (COVID-19) is an infectious disease caused by the SARS-CoV-2 virus.\n",
    "- Most people who fall sick with COVID-19 will experience mild to moderate symptoms and recover without special treatment. However, some will become seriously ill and require medical attention.\n",
    "\n",
    "Learn more about Coronavirus disease (COVID-19) pandemic: [WHO](https://www.who.int/emergencies/diseases/novel-coronavirus-2019)\n",
    "\n",
    "COVID Live - Coronavirus Statistics: [Worldometers](https://www.worldometers.info/coronavirus/)\n"
   ]
  },
  {
   "cell_type": "markdown",
   "id": "ae202d2d",
   "metadata": {
    "papermill": {
     "duration": 0.001555,
     "end_time": "2023-01-04T13:09:00.760434",
     "exception": false,
     "start_time": "2023-01-04T13:09:00.758879",
     "status": "completed"
    },
    "tags": []
   },
   "source": [
    "# Import Libraries"
   ]
  },
  {
   "cell_type": "code",
   "execution_count": 1,
   "id": "4bc1e8f7",
   "metadata": {
    "execution": {
     "iopub.execute_input": "2023-01-04T13:09:00.766054Z",
     "iopub.status.busy": "2023-01-04T13:09:00.765539Z",
     "iopub.status.idle": "2023-01-04T13:09:02.210003Z",
     "shell.execute_reply": "2023-01-04T13:09:02.208903Z"
    },
    "papermill": {
     "duration": 1.451907,
     "end_time": "2023-01-04T13:09:02.214066",
     "exception": false,
     "start_time": "2023-01-04T13:09:00.762159",
     "status": "completed"
    },
    "tags": []
   },
   "outputs": [
    {
     "name": "stderr",
     "output_type": "stream",
     "text": [
      "/opt/conda/lib/python3.7/site-packages/ipykernel_launcher.py:21: DeprecationWarning: `set_matplotlib_formats` is deprecated since IPython 7.23, directly use `matplotlib_inline.backend_inline.set_matplotlib_formats()`\n"
     ]
    }
   ],
   "source": [
    "import numpy as np \n",
    "import matplotlib.pyplot as plt \n",
    "import matplotlib.colors as mcolors\n",
    "import pandas as pd \n",
    "import random\n",
    "import math\n",
    "import time\n",
    "\n",
    "from sklearn.linear_model import LinearRegression, BayesianRidge\n",
    "from sklearn.model_selection import RandomizedSearchCV, train_test_split\n",
    "from sklearn.preprocessing import PolynomialFeatures\n",
    "from sklearn.svm import SVR\n",
    "from sklearn.metrics import mean_squared_error, mean_absolute_error\n",
    "\n",
    "import datetime\n",
    "import operator  # exports a set of efficient functions corresponding to the intrinsic operators of Python\n",
    "plt.style.use('seaborn-poster')\n",
    "\n",
    "%matplotlib inline\n",
    "from IPython.display import set_matplotlib_formats\n",
    "set_matplotlib_formats('retina')\n",
    "\n",
    "import warnings\n",
    "warnings.filterwarnings(\"ignore\")"
   ]
  }
 ],
 "metadata": {
  "kernelspec": {
   "display_name": "Python 3",
   "language": "python",
   "name": "python3"
  },
  "language_info": {
   "codemirror_mode": {
    "name": "ipython",
    "version": 3
   },
   "file_extension": ".py",
   "mimetype": "text/x-python",
   "name": "python",
   "nbconvert_exporter": "python",
   "pygments_lexer": "ipython3",
   "version": "3.7.12"
  },
  "papermill": {
   "default_parameters": {},
   "duration": 12.439234,
   "end_time": "2023-01-04T13:09:03.341244",
   "environment_variables": {},
   "exception": null,
   "input_path": "__notebook__.ipynb",
   "output_path": "__notebook__.ipynb",
   "parameters": {},
   "start_time": "2023-01-04T13:08:50.902010",
   "version": "2.3.4"
  }
 },
 "nbformat": 4,
 "nbformat_minor": 5
}
